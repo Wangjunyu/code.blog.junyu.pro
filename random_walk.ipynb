{
 "cells": [
  {
   "cell_type": "code",
   "execution_count": 1,
   "metadata": {
    "collapsed": true
   },
   "outputs": [],
   "source": [
    "import numpy as np\n",
    "import matplotlib.pyplot as plt\n",
    "%matplotlib inline"
   ]
  },
  {
   "cell_type": "markdown",
   "metadata": {},
   "source": [
    "# 以10步为例实现随机漫步"
   ]
  },
  {
   "cell_type": "code",
   "execution_count": 2,
   "metadata": {
    "collapsed": false
   },
   "outputs": [
    {
     "data": {
      "text/plain": [
       "array([[ 1, -1],\n",
       "       [ 1,  1],\n",
       "       [-1,  0],\n",
       "       [ 0, -1],\n",
       "       [ 1,  1],\n",
       "       [ 0,  1],\n",
       "       [-1,  0],\n",
       "       [ 0,  0],\n",
       "       [-1,  0],\n",
       "       [ 0,  1]])"
      ]
     },
     "execution_count": 2,
     "metadata": {},
     "output_type": "execute_result"
    }
   ],
   "source": [
    "# 定义函数，生成随机漫步的步长\n",
    "\n",
    "## 方法一：x、y轴分开生成，再合并\n",
    "x_arr = np.random.randint(-1,2,10)\n",
    "y_arr = np.random.randint(-1,2,10)\n",
    "step = np.column_stack((x_arr,y_arr))\n",
    "step"
   ]
  },
  {
   "cell_type": "code",
   "execution_count": 3,
   "metadata": {
    "collapsed": false
   },
   "outputs": [
    {
     "data": {
      "text/plain": [
       "array([ 1, -1])"
      ]
     },
     "execution_count": 3,
     "metadata": {},
     "output_type": "execute_result"
    }
   ],
   "source": [
    "step[0]"
   ]
  },
  {
   "cell_type": "code",
   "execution_count": 4,
   "metadata": {
    "collapsed": false
   },
   "outputs": [
    {
     "data": {
      "text/plain": [
       "array([[ 1, -1],\n",
       "       [ 1,  0],\n",
       "       [ 1,  0],\n",
       "       [ 0,  1],\n",
       "       [ 0,  0],\n",
       "       [ 0,  1],\n",
       "       [ 1, -1],\n",
       "       [ 0,  0],\n",
       "       [ 0,  1],\n",
       "       [ 0,  0]])"
      ]
     },
     "execution_count": 4,
     "metadata": {},
     "output_type": "execute_result"
    }
   ],
   "source": [
    "## 方法二：直接生成\n",
    "np.random.randint(-1,2,size = (10,2))"
   ]
  },
  {
   "cell_type": "code",
   "execution_count": 5,
   "metadata": {
    "collapsed": false
   },
   "outputs": [],
   "source": [
    "# 把随机数变成坐标\n",
    "coordinate = np.empty([10,2],dtype = int)\n",
    "coordinate[0] = [0,0]\n",
    "for i in range (0,9):\n",
    "    coordinate[i+1] = coordinate[i] + step[i] "
   ]
  },
  {
   "cell_type": "code",
   "execution_count": 6,
   "metadata": {
    "collapsed": false
   },
   "outputs": [
    {
     "data": {
      "text/plain": [
       "array([[ 0,  0],\n",
       "       [ 1, -1],\n",
       "       [ 2,  0],\n",
       "       [ 1,  0],\n",
       "       [ 1, -1],\n",
       "       [ 2,  0],\n",
       "       [ 2,  1],\n",
       "       [ 1,  1],\n",
       "       [ 1,  1],\n",
       "       [ 0,  1]])"
      ]
     },
     "execution_count": 6,
     "metadata": {},
     "output_type": "execute_result"
    }
   ],
   "source": [
    "coordinate"
   ]
  },
  {
   "cell_type": "code",
   "execution_count": 7,
   "metadata": {
    "collapsed": false
   },
   "outputs": [
    {
     "data": {
      "text/plain": [
       "[<matplotlib.lines.Line2D at 0x103cf0ad0>]"
      ]
     },
     "execution_count": 7,
     "metadata": {},
     "output_type": "execute_result"
    },
    {
     "data": {
      "image/png": "[encoded data removed]",
      "text/plain": [
       "<matplotlib.figure.Figure at 0x10a378750>"
      ]
     },
     "metadata": {},
     "output_type": "display_data"
    }
   ],
   "source": [
    "# 根据随机数坐标画图\n",
    "coordinate = coordinate.T\n",
    "plt.plot(coordinate[0],coordinate[1])"
   ]
  },
  {
   "cell_type": "markdown",
   "metadata": {},
   "source": [
    "# 实现z步随机漫步作图"
   ]
  },
  {
   "cell_type": "code",
   "execution_count": 8,
   "metadata": {
    "collapsed": false
   },
   "outputs": [
    {
     "data": {
      "image/png": "[encoded data removed]",
      "text/plain": [
       "<matplotlib.figure.Figure at 0x10a378590>"
      ]
     },
     "metadata": {},
     "output_type": "display_data"
    }
   ],
   "source": [
    "z = 10\n",
    "x_arr = np.random.randint(-1,2,z)\n",
    "y_arr = np.random.randint(-1,2,z)\n",
    "steps = np.vstack((x_arr,y_arr))\n",
    "steps = steps.T\n",
    "random_coordinate = np.empty([z+1,2],dtype=int)\n",
    "random_coordinate[0] = [0,0]\n",
    "for i in range(0,z):\n",
    "    random_coordinate[i+1] = random_coordinate[i] + steps[i]\n",
    "\n",
    "random_coordinate = random_coordinate.T\n",
    "plt.plot(random_coordinate[0],random_coordinate[1]);"
   ]
  },
  {
   "cell_type": "code",
   "execution_count": 9,
   "metadata": {
    "collapsed": false
   },
   "outputs": [
    {
     "data": {
      "text/plain": [
       "array([[ 0,  1,  0,  0,  0,  0,  0, -1,  0,  1,  1],\n",
       "       [ 0,  1,  1,  2,  2,  1,  2,  2,  2,  1,  0]])"
      ]
     },
     "execution_count": 9,
     "metadata": {},
     "output_type": "execute_result"
    }
   ],
   "source": [
    "random_coordinate"
   ]
  },
  {
   "cell_type": "markdown",
   "metadata": {},
   "source": [
    "# 函数化"
   ]
  },
  {
   "cell_type": "code",
   "execution_count": 10,
   "metadata": {
    "collapsed": true
   },
   "outputs": [],
   "source": [
    "# 输出随机游走的坐标函数\n",
    "def random_coordinate(z):\n",
    "    x_arr = np.random.randint(-1,2,z)\n",
    "    y_arr = np.random.randint(-1,2,z)\n",
    "    steps = np.vstack((x_arr,y_arr))\n",
    "    steps = steps.T\n",
    "    random_coordinate = np.empty([z+1,2],dtype=int)\n",
    "    random_coordinate[0] = [0,0]\n",
    "    for i in range(0,z):\n",
    "        random_coordinate[i+1] = random_coordinate[i] + steps[i]\n",
    "    random_coordinate = random_coordinate.T\n",
    "    return random_coordinate"
   ]
  },
  {
   "cell_type": "code",
   "execution_count": 11,
   "metadata": {
    "collapsed": false
   },
   "outputs": [
    {
     "data": {
      "text/plain": [
       "array([[ 0,  0, -1, -2, -3, -4, -5, -6, -6, -7, -6, -7, -7, -8, -8, -9, -8,\n",
       "        -7, -8, -7, -7, -7, -6, -7, -7, -8, -7, -6, -5, -6, -7, -8, -8, -8,\n",
       "        -9, -8, -9, -8, -8, -7, -7, -6, -6, -6, -6, -6, -5, -4, -3, -2, -3,\n",
       "        -3, -2, -2, -2, -1, -2, -1,  0,  0,  0,  1,  0,  1,  1,  0,  0, -1,\n",
       "         0,  0, -1, -1, -1,  0,  1,  1,  1,  0,  1,  0,  1,  2,  2,  3,  4,\n",
       "         3,  4,  4,  5,  5,  4,  3,  2,  3,  3,  3,  2,  3,  4,  5,  4],\n",
       "       [ 0, -1, -1,  0,  0,  0,  1,  2,  3,  4,  3,  4,  4,  4,  4,  4,  4,\n",
       "         5,  5,  6,  6,  7,  8,  9, 10, 11, 11, 12, 11, 12, 12, 13, 12, 12,\n",
       "        12, 11, 11, 11, 11, 10, 11, 12, 12, 12, 11, 11, 10, 10, 11, 10, 11,\n",
       "        11, 11, 10, 10, 11, 11, 12, 13, 14, 15, 16, 16, 17, 17, 16, 17, 17,\n",
       "        16, 15, 15, 14, 14, 15, 15, 15, 15, 14, 13, 14, 13, 12, 12, 11, 10,\n",
       "         9,  8,  7,  7,  8,  7,  7,  7,  8,  8,  9, 10,  9, 10,  9, 10]])"
      ]
     },
     "execution_count": 11,
     "metadata": {},
     "output_type": "execute_result"
    }
   ],
   "source": [
    "random_coordinate(100)"
   ]
  },
  {
   "cell_type": "code",
   "execution_count": 12,
   "metadata": {
    "collapsed": true
   },
   "outputs": [],
   "source": [
    "# 输出画图的样式(测试)\n",
    "def plot_style(ax, data1, data2, param_dict):\n",
    "    ax.get_xaxis().set_visible(False)\n",
    "    ax.get_yaxis().set_visible(False)\n",
    "    out = ax.plot(data1, data2, **param_dict)\n",
    "    return out"
   ]
  },
  {
   "cell_type": "code",
   "execution_count": 13,
   "metadata": {
    "collapsed": false
   },
   "outputs": [],
   "source": [
    "y = np.arange(10)"
   ]
  },
  {
   "cell_type": "code",
   "execution_count": 14,
   "metadata": {
    "collapsed": false
   },
   "outputs": [
    {
     "data": {
      "text/plain": [
       "[<matplotlib.lines.Line2D at 0x10a3b9d90>]"
      ]
     },
     "execution_count": 14,
     "metadata": {},
     "output_type": "execute_result"
    },
    {
     "data": {
      "image/png": "[encoded data removed]",
      "text/plain": [
       "<matplotlib.figure.Figure at 0x10a3b99d0>"
      ]
     },
     "metadata": {},
     "output_type": "display_data"
    }
   ],
   "source": [
    "fig, ax = plt.subplots(1, 1)\n",
    "plot_style(ax, y, y, {'marker':'x'})"
   ]
  },
  {
   "cell_type": "code",
   "execution_count": null,
   "metadata": {
    "collapsed": true
   },
   "outputs": [],
   "source": []
  },
  {
   "cell_type": "code",
   "execution_count": 15,
   "metadata": {
    "collapsed": false
   },
   "outputs": [
    {
     "data": {
      "text/plain": [
       "[<matplotlib.lines.Line2D at 0x10fa8d9d0>]"
      ]
     },
     "execution_count": 15,
     "metadata": {},
     "output_type": "execute_result"
    },
    {
     "data": {
      "image/png": "[encoded data removed]",
      "text/plain": [
       "<matplotlib.figure.Figure at 0x10ca05e10>"
      ]
     },
     "metadata": {},
     "output_type": "display_data"
    }
   ],
   "source": [
    "ax = plt.subplot()\n",
    "ax.plot(y,y)"
   ]
  },
  {
   "cell_type": "code",
   "execution_count": null,
   "metadata": {
    "collapsed": true
   },
   "outputs": [],
   "source": []
  },
  {
   "cell_type": "code",
   "execution_count": 16,
   "metadata": {
    "collapsed": true
   },
   "outputs": [],
   "source": [
    "# 输出随机游走的图像"
   ]
  },
  {
   "cell_type": "code",
   "execution_count": 17,
   "metadata": {
    "collapsed": false
   },
   "outputs": [],
   "source": [
    "def random_walk_test(z):\n",
    "    x = random_coordinate(z)\n",
    "    ax = plt.subplot()\n",
    "    out = ax.plot(x[0],x[1])\n",
    "    return out\n",
    "    "
   ]
  },
  {
   "cell_type": "code",
   "execution_count": 19,
   "metadata": {
    "collapsed": false
   },
   "outputs": [
    {
     "data": {
      "text/plain": [
       "[<matplotlib.lines.Line2D at 0x110078f90>]"
      ]
     },
     "execution_count": 19,
     "metadata": {},
     "output_type": "execute_result"
    },
    {
     "data": {
      "image/png": "[encoded data removed]",
      "text/plain": [
       "<matplotlib.figure.Figure at 0x10fbc9690>"
      ]
     },
     "metadata": {},
     "output_type": "display_data"
    }
   ],
   "source": [
    "random_walk_test(100)"
   ]
  },
  {
   "cell_type": "markdown",
   "metadata": {},
   "source": []
  },
  {
   "cell_type": "code",
   "execution_count": null,
   "metadata": {
    "collapsed": true
   },
   "outputs": [],
   "source": []
  },
  {
   "cell_type": "markdown",
   "metadata": {},
   "source": [
    "# 图像展示的优化"
   ]
  },
  {
   "cell_type": "code",
   "execution_count": 20,
   "metadata": {
    "collapsed": false
   },
   "outputs": [
    {
     "data": {
      "text/plain": [
       "(-2, 9)"
      ]
     },
     "execution_count": 20,
     "metadata": {},
     "output_type": "execute_result"
    },
    {
     "data": {
      "image/png": "[encoded data removed]",
      "text/plain": [
       "<matplotlib.figure.Figure at 0x110192c10>"
      ]
     },
     "metadata": {},
     "output_type": "display_data"
    }
   ],
   "source": [
    "z = 100\n",
    "x_arr = np.random.randint(-1,2,z)\n",
    "y_arr = np.random.randint(-1,2,z)\n",
    "steps = np.vstack((x_arr,y_arr))\n",
    "steps = steps.T\n",
    "random_coordinate = np.empty([z+1,2],dtype=int)\n",
    "random_coordinate[0] = [0,0]\n",
    "for i in range(0,z):\n",
    "    random_coordinate[i+1] = random_coordinate[i] + steps[i]\n",
    "\n",
    "random_coordinate = random_coordinate.T\n",
    "plt.plot(random_coordinate[0],random_coordinate[1]);\n",
    "plt.plot([0],[0],marker = \"o\",color = 'green')\n",
    "plt.plot(random_coordinate[0,z],random_coordinate[1,z],marker = 'o',color = 'red')\n",
    "\n",
    "plt.plot([0,0],[random_coordinate[1].min()-1,random_coordinate[1].max()+1],color = 'black',lw = 0.5,ls = '--')\n",
    "plt.plot([random_coordinate[0].min()-1,random_coordinate[0].max()+1],np.zeros_like([random_coordinate[0].min()-1,random_coordinate[0].max()+1]),color = 'black',lw = 0.5,ls = '--')\n",
    "plt.xlim(random_coordinate[0].min()-1,random_coordinate[0].max()+1)\n",
    "plt.ylim(random_coordinate[1].min()-1,random_coordinate[1].max()+1)\n",
    "\n"
   ]
  },
  {
   "cell_type": "code",
   "execution_count": null,
   "metadata": {
    "collapsed": true
   },
   "outputs": [],
   "source": []
  },
  {
   "cell_type": "markdown",
   "metadata": {},
   "source": [
    "# 展示图像优化后的函数化"
   ]
  },
  {
   "cell_type": "code",
   "execution_count": 21,
   "metadata": {
    "collapsed": true
   },
   "outputs": [],
   "source": [
    "def random_walk_final(z):\n",
    "    x = random_coordinate(z)\n",
    "    ax = plt.subplot()\n",
    "    out = ax.plot(x[0],x[1])\n",
    "    out = ax.plot([0],[0],marker = \"o\",color = 'green')\n",
    "    out = ax.plot(x[0,z],x[1,z],marker = 'o',color = 'red')\n",
    "    out = ax.plot([0,0],[x[1].min()-1,x[1].max()+1],color = 'black',lw = 0.5,ls = '--')\n",
    "    out = ax.plot([x[0].min()-1,x[0].max()+1],np.zeros_like([x[0].min()-1,x[0].max()+1]),color = 'black',lw = 0.5,ls = '--')\n",
    "    out = plt.xlim(x[0].min()-1,x[0].max()+1)\n",
    "    out = plt.ylim(x[1].min()-1,x[1].max()+1)\n",
    "    out = ax.get_xaxis().set_visible(False)\n",
    "    out = ax.get_yaxis().set_visible(False)\n",
    "    return out"
   ]
  },
  {
   "cell_type": "code",
   "execution_count": 22,
   "metadata": {
    "collapsed": false
   },
   "outputs": [
    {
     "ename": "TypeError",
     "evalue": "'numpy.ndarray' object is not callable",
     "output_type": "error",
     "traceback": [
      "\u001b[0;31m---------------------------------------------------------------------------\u001b[0m",
      "\u001b[0;31mTypeError\u001b[0m                                 Traceback (most recent call last)",
      "\u001b[0;32m<ipython-input-22-bf51fe67be55>\u001b[0m in \u001b[0;36m<module>\u001b[0;34m()\u001b[0m\n\u001b[0;32m----> 1\u001b[0;31m \u001b[0mrandom_walk_final\u001b[0m\u001b[0;34m(\u001b[0m\u001b[0;36m10\u001b[0m\u001b[0;34m)\u001b[0m\u001b[0;34m\u001b[0m\u001b[0m\n\u001b[0m",
      "\u001b[0;32m<ipython-input-21-1456debb40d5>\u001b[0m in \u001b[0;36mrandom_walk_final\u001b[0;34m(z)\u001b[0m\n\u001b[1;32m      1\u001b[0m \u001b[0;32mdef\u001b[0m \u001b[0mrandom_walk_final\u001b[0m\u001b[0;34m(\u001b[0m\u001b[0mz\u001b[0m\u001b[0;34m)\u001b[0m\u001b[0;34m:\u001b[0m\u001b[0;34m\u001b[0m\u001b[0m\n\u001b[0;32m----> 2\u001b[0;31m     \u001b[0mx\u001b[0m \u001b[0;34m=\u001b[0m \u001b[0mrandom_coordinate\u001b[0m\u001b[0;34m(\u001b[0m\u001b[0mz\u001b[0m\u001b[0;34m)\u001b[0m\u001b[0;34m\u001b[0m\u001b[0m\n\u001b[0m\u001b[1;32m      3\u001b[0m     \u001b[0max\u001b[0m \u001b[0;34m=\u001b[0m \u001b[0mplt\u001b[0m\u001b[0;34m.\u001b[0m\u001b[0msubplot\u001b[0m\u001b[0;34m(\u001b[0m\u001b[0;34m)\u001b[0m\u001b[0;34m\u001b[0m\u001b[0m\n\u001b[1;32m      4\u001b[0m     \u001b[0mout\u001b[0m \u001b[0;34m=\u001b[0m \u001b[0max\u001b[0m\u001b[0;34m.\u001b[0m\u001b[0mplot\u001b[0m\u001b[0;34m(\u001b[0m\u001b[0mx\u001b[0m\u001b[0;34m[\u001b[0m\u001b[0;36m0\u001b[0m\u001b[0;34m]\u001b[0m\u001b[0;34m,\u001b[0m\u001b[0mx\u001b[0m\u001b[0;34m[\u001b[0m\u001b[0;36m1\u001b[0m\u001b[0;34m]\u001b[0m\u001b[0;34m)\u001b[0m\u001b[0;34m\u001b[0m\u001b[0m\n\u001b[1;32m      5\u001b[0m     \u001b[0mout\u001b[0m \u001b[0;34m=\u001b[0m \u001b[0max\u001b[0m\u001b[0;34m.\u001b[0m\u001b[0mplot\u001b[0m\u001b[0;34m(\u001b[0m\u001b[0;34m[\u001b[0m\u001b[0;36m0\u001b[0m\u001b[0;34m]\u001b[0m\u001b[0;34m,\u001b[0m\u001b[0;34m[\u001b[0m\u001b[0;36m0\u001b[0m\u001b[0;34m]\u001b[0m\u001b[0;34m,\u001b[0m\u001b[0mmarker\u001b[0m \u001b[0;34m=\u001b[0m \u001b[0;34m\"o\"\u001b[0m\u001b[0;34m,\u001b[0m\u001b[0mcolor\u001b[0m \u001b[0;34m=\u001b[0m \u001b[0;34m'green'\u001b[0m\u001b[0;34m)\u001b[0m\u001b[0;34m\u001b[0m\u001b[0m\n",
      "\u001b[0;31mTypeError\u001b[0m: 'numpy.ndarray' object is not callable"
     ]
    }
   ],
   "source": [
    "random_walk_final(10)"
   ]
  },
  {
   "cell_type": "markdown",
   "metadata": {},
   "source": [
    "# 生成“九宫格”函数"
   ]
  },
  {
   "cell_type": "code",
   "execution_count": null,
   "metadata": {
    "collapsed": false
   },
   "outputs": [],
   "source": [
    "fig1,ax = plt.subplots(3,3,figsize=(12,6))\n",
    "flag = 0\n",
    "for i in range(0,3):\n",
    "    for j in range(0,3):\n",
    "        flag += 1\n",
    "        ax[i][j].get_xaxis().set_visible(False)\n",
    "        ax[i][j].get_yaxis().set_visible(False)\n",
    "        ax[i][j].set_title('Random Walk %d' %flag )\n",
    "        "
   ]
  },
  {
   "cell_type": "code",
   "execution_count": null,
   "metadata": {
    "collapsed": true
   },
   "outputs": [],
   "source": [
    "def rand_walk_9_test(x):\n",
    "    fig1,ax = plt.subplots(3,3,figsize=(12,6))\n",
    "    flag = 0\n",
    "    for i in range(0,3):\n",
    "        for j in range(0,3):\n",
    "            flag += 1\n",
    "            out = ax[i][j].get_xaxis().set_visible(False)\n",
    "            out = ax[i][j].get_yaxis().set_visible(False)\n",
    "            out = ax[i][j].set_title('Random Walk %d' %flag )\n",
    "    return out"
   ]
  },
  {
   "cell_type": "code",
   "execution_count": null,
   "metadata": {
    "collapsed": false
   },
   "outputs": [],
   "source": [
    "def rand_walk_9_test2(y):\n",
    "    fig1,ax = plt.subplots(3,3,figsize=(12,6))\n",
    "    flag = 0\n",
    "    for i in range(0,3):\n",
    "        for j in range(0,3):\n",
    "            x = random_coordinate(y)\n",
    "            flag += 1\n",
    "            out = ax[i][j].get_xaxis().set_visible(False)\n",
    "            out = ax[i][j].get_yaxis().set_visible(False)\n",
    "            out = ax[i][j].set_title('Random Walk %d' %flag )\n",
    "            out = ax[i][j].plot(x[0],x[1])\n",
    "            out = ax[i][j].plot([0],[0],marker = \"o\",color = 'green')\n",
    "            out = ax[i][j].plot(x[0,y],x[1,y],marker = 'o',color = 'red')\n",
    "            out = ax[i][j].plot([0,0],[x[1].min()-1,x[1].max()+1],color = 'black',lw = 0.5,ls = '--')\n",
    "            out = ax[i][j].plot([x[0].min()-1,x[0].max()+1],np.zeros_like([x[0].min()-1,x[0].max()+1]),color = 'black',lw = 0.5,ls = '--')\n",
    "            out = plt.xlim(x[0].min()-1,x[0].max()+1)\n",
    "            out = plt.ylim(x[1].min()-1,x[1].max()+1)\n",
    "    return out"
   ]
  },
  {
   "cell_type": "code",
   "execution_count": null,
   "metadata": {
    "collapsed": false
   },
   "outputs": [],
   "source": [
    "rand_walk_9_test2(1000)"
   ]
  },
  {
   "cell_type": "code",
   "execution_count": null,
   "metadata": {
    "collapsed": true
   },
   "outputs": [],
   "source": [
    "def rand_walk_9_test3(y):\n",
    "    fig1,ax = plt.subplots(3,3,figsize=(12,6))\n",
    "    flag = 0\n",
    "    for i in range(0,3):\n",
    "        for j in range(0,3):\n",
    "            flag += 1\n",
    "            out = ax[i][j].set_title('Random Walk %d' %flag )\n",
    "            out = random_walk_final(y)\n",
    "\n",
    "    return out"
   ]
  },
  {
   "cell_type": "code",
   "execution_count": null,
   "metadata": {
    "collapsed": false
   },
   "outputs": [],
   "source": [
    "rand_walk_9_test3(9)"
   ]
  },
  {
   "cell_type": "code",
   "execution_count": null,
   "metadata": {
    "collapsed": false
   },
   "outputs": [],
   "source": [
    "ax2 = plt.subplot()\n",
    "# ax2.set_axis_off()\n",
    "\n",
    "# ax2.get_xaxis().set_ticks([]);\n",
    "# ax2.get_yaxis().set_ticks([]);\n",
    "\n",
    "ax2.get_xaxis().set_visible(False)\n",
    "ax2.get_yaxis().set_visible(False)\n"
   ]
  },
  {
   "cell_type": "code",
   "execution_count": null,
   "metadata": {
    "collapsed": true
   },
   "outputs": [],
   "source": [
    "def rand_walk_9_test4(y):\n",
    "    fig1,ax = plt.subplots(3,3,figsize=(12,6))\n",
    "    flag = 0\n",
    "    for i in range(0,3):\n",
    "        for j in range(0,3):\n",
    "            flag += 1\n",
    "#           out = ax[i][j].set_title('Random Walk %d' %flag )\n",
    "            ax[i][j] = random_walk_final(y)\n",
    "#           out = random_walk_final(y)\n",
    "            out = ax[i][j]\n",
    "    return out"
   ]
  },
  {
   "cell_type": "code",
   "execution_count": null,
   "metadata": {
    "collapsed": false
   },
   "outputs": [],
   "source": [
    "rand_walk_9_test4(1000)"
   ]
  },
  {
   "cell_type": "code",
   "execution_count": null,
   "metadata": {
    "collapsed": true
   },
   "outputs": [],
   "source": [
    "def random_walk_final(z):\n",
    "    random_coordinate \n",
    "    x = random_coordinate(z)\n",
    "    ax = plt.subplot()\n",
    "    out = ax.plot(x[0],x[1])\n",
    "    out = ax.plot([0],[0],marker = \"o\",color = 'green')\n",
    "    out = ax.plot(x[0,z],x[1,z],marker = 'o',color = 'red')\n",
    "    out = ax.plot([0,0],[x[1].min()-1,x[1].max()+1],color = 'black',lw = 0.5,ls = '--')\n",
    "    out = ax.plot([x[0].min()-1,x[0].max()+1],np.zeros_like([x[0].min()-1,x[0].max()+1]),color = 'black',lw = 0.5,ls = '--')\n",
    "    out = plt.xlim(x[0].min()-1,x[0].max()+1)\n",
    "    out = plt.ylim(x[1].min()-1,x[1].max()+1)\n",
    "    out = ax.get_xaxis().set_visible(False)\n",
    "    out = ax.get_yaxis().set_visible(False)\n",
    "    return out"
   ]
  },
  {
   "cell_type": "code",
   "execution_count": null,
   "metadata": {
    "collapsed": true
   },
   "outputs": [],
   "source": []
  },
  {
   "cell_type": "code",
   "execution_count": null,
   "metadata": {
    "collapsed": true
   },
   "outputs": [],
   "source": []
  }
 ],
 "metadata": {
  "kernelspec": {
   "display_name": "Python [Root]",
   "language": "python",
   "name": "Python [Root]"
  },
  "language_info": {
   "codemirror_mode": {
    "name": "ipython",
    "version": 2
   },
   "file_extension": ".py",
   "mimetype": "text/x-python",
   "name": "python",
   "nbconvert_exporter": "python",
   "pygments_lexer": "ipython2",
   "version": "2.7.12"
  }
 },
 "nbformat": 4,
 "nbformat_minor": 0
}
